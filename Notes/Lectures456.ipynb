{
 "cells": [
  {
   "cell_type": "code",
   "execution_count": 7,
   "metadata": {},
   "outputs": [],
   "source": [
    "# the \"numPy\" library is used for mathematical operations\n",
    "# the \"matplotlib\" library is for generating graphs\n",
    "# the \"pandas\" library is for manipualting datasets\n",
    "\n",
    "import numpy as np\n",
    "import matplotlib.pyplot as plt\n",
    "import pandas as pd"
   ]
  },
  {
   "cell_type": "markdown",
   "metadata": {},
   "source": [
    "## Lecture 4"
   ]
  },
  {
   "cell_type": "code",
   "execution_count": null,
   "metadata": {},
   "outputs": [],
   "source": [
    "# Equality of strings is most useful when you're comparing an unknown variable\n",
    "# to a benchmark. \n",
    "\n",
    "# Below, try switching the value of \"any_questions\"\n",
    "\n",
    "any_questions = \"no\"\n",
    "\n",
    "print( any_questions == \"yes\" )"
   ]
  },
  {
   "cell_type": "code",
   "execution_count": null,
   "metadata": {},
   "outputs": [],
   "source": [
    "# The first way to use the \"in\" command is to check whether a word is contained \n",
    "# in a sentence. This can be useful if you're trying to search for patterns\n",
    "\n",
    "keyword = \"economic\"\n",
    "sentence = \"The Federal Reserve makes forecasts about many economic outcomes\"\n",
    "\n",
    "print (keyword in sentence)\n",
    "\n",
    "# There is a second way to use the \"in\" command\n",
    "# Use the condition \"in\" to test whether a word is part of a list\n",
    "# when the right-han size is a list \"word in list\" will search for an exact match\n",
    "\n",
    "current_month  = \"January\"\n",
    "\n",
    "list_summer_months = [\"June\",\"July\",\"August\"]\n",
    "\n",
    "print(current_month in list_summer_months)\n",
    "print('June' in list_summer_months)"
   ]
  },
  {
   "cell_type": "markdown",
   "metadata": {},
   "source": [
    "#### Type Check"
   ]
  },
  {
   "cell_type": "code",
   "execution_count": null,
   "metadata": {},
   "outputs": [],
   "source": [
    "# The isinstance command\n",
    "\n",
    "y = 10\n",
    "\n",
    "print( isinstance(y,int)  )\n",
    "print( isinstance(y,float) )\n",
    "print( isinstance(y,str) )\n",
    "\n",
    "## Common pitall:\n",
    "## Doing type(y) == \"int\" will NOT produce the right answer.\n",
    "type(y) == int"
   ]
  },
  {
   "cell_type": "markdown",
   "metadata": {},
   "source": [
    "<font size = \"5\">\n",
    "\n",
    "<span style=\"color:red\"> Common Pitfall: </span> Equality of vectors is done element-by-element"
   ]
  },
  {
   "cell_type": "code",
   "execution_count": null,
   "metadata": {},
   "outputs": [],
   "source": [
    "vec_a = np.array([1,2,3])\n",
    "vec_b = np.array([1,2,4])\n",
    "\n",
    "vec_a == vec_b"
   ]
  },
  {
   "cell_type": "markdown",
   "metadata": {},
   "source": [
    "#### Not, And, Or"
   ]
  },
  {
   "cell_type": "code",
   "execution_count": null,
   "metadata": {},
   "outputs": [],
   "source": [
    "age  = 22\n",
    "\n",
    "# Can this person legally vote in the US?\n",
    "not (age < 18)\n",
    "\n",
    "# Note: This expression evaluates whether a person\n",
    "# is not underage\n",
    "\n",
    "# The \"not\" word can be separated by a space and the parentheses are not necessary\n",
    "# but the parentheses can be helpful to organize your code logically\n",
    "\n",
    "# We use the \"|\" symbol to separate \"OR\" conditions.\n",
    "# We use the \"&\" symbol to separate \"AND\" conditions\n"
   ]
  },
  {
   "cell_type": "markdown",
   "metadata": {},
   "source": [
    "#### If/elif/else"
   ]
  },
  {
   "cell_type": "code",
   "execution_count": null,
   "metadata": {},
   "outputs": [],
   "source": [
    "years_in_program = 1\n",
    "\n",
    "if years_in_program == 1:\n",
    "    print(\"This student is a freshman\")\n",
    "elif years_in_program == 2:\n",
    "    print(\"This student is a sophomore\")\n",
    "elif years_in_program == 3:\n",
    "    print(\"This student is a junior\")\n",
    "else:\n",
    "    print(\"This student is a senior\")"
   ]
  },
  {
   "cell_type": "markdown",
   "metadata": {},
   "source": [
    "#### Arrays"
   ]
  },
  {
   "cell_type": "code",
   "execution_count": null,
   "metadata": {},
   "outputs": [],
   "source": [
    "a = np.array([20,30,15])\n",
    "t = np.array([0,1,2])"
   ]
  },
  {
   "cell_type": "markdown",
   "metadata": {},
   "source": [
    "## Lecture 5"
   ]
  },
  {
   "cell_type": "markdown",
   "metadata": {},
   "source": [
    "#### if followed by nonboolean\n",
    "\n",
    "if applies bool() to following expression\n",
    "\n",
    "\n",
    "objects in python are all evaluable as true or false\n"
   ]
  },
  {
   "cell_type": "code",
   "execution_count": null,
   "metadata": {},
   "outputs": [],
   "source": [
    "# for numbers, all non-zero evaluate as True\n",
    "print(\"bool() of numbers\")\n",
    "print(bool(-10))\n",
    "print(bool(-15*0))\n",
    "print(bool(0.00))\n",
    "# for strings, all nonempty strings evaluate as True\n",
    "print(\"\\nbool() of strings\")\n",
    "print(bool(''))\n",
    "print(bool(\" \"))\n",
    "print(bool(\"hi\"))\n",
    "# for lists, all nonempty lists evaluate as True\n",
    "print(\"\\nbool() of lists\")\n",
    "print(bool([]))\n",
    "print(bool(['']))\n",
    "print(bool(['','','']))\n",
    "print(bool([' ']))\n",
    "print(bool([0,0,0]))\n",
    "print(bool([0,0,1]))\n",
    "# None evaluates as false\n",
    "print(\"\\nbool() of none\")\n",
    "print(bool(None))"
   ]
  },
  {
   "cell_type": "markdown",
   "metadata": {},
   "source": [
    "#### Lists Continued\n",
    "\n",
    "Empty List has all values set to none"
   ]
  },
  {
   "cell_type": "code",
   "execution_count": 18,
   "metadata": {},
   "outputs": [
    {
     "name": "stdout",
     "output_type": "stream",
     "text": [
      "original list a:\t\t[None, None, None]\n",
      "one value changed:\t\t['this is index 0, element 1', None, None]\n",
      "\n",
      "original list b:\t\t[]\n",
      "two appended values list b:\t[0, 1]\n",
      "\u0007list b appended on list a:\t['this is index 0, element 1', None, None, [0, 1]]\n"
     ]
    }
   ],
   "source": [
    "# initialize list with set number values\n",
    "list_a = [None,None,None]\n",
    "print (\"original list a:\\t\\t\"+str(list_a))\n",
    "\n",
    "#assign values to list\n",
    "# list[index] = newvalue\n",
    "list_a[0] = \"this is index 0, element 1\"\n",
    "print (\"one value changed:\\t\\t\"+str(list_a))\n",
    "\n",
    "#append values to list\n",
    "# can start with empty list or one with things in it\n",
    "list_b = []\n",
    "print (\"\\noriginal list b:\\t\\t\"+str(list_b))\n",
    "# to append, use .append()\n",
    "list_b.append(0)\n",
    "list_b.append(1)\n",
    "print (\"two appended values list b:\\t\"+str(list_b))\n",
    "list_a.append(list_b)\n",
    "print (\"\\alist b appended on list a:\\t\"+str(list_a))"
   ]
  },
  {
   "cell_type": "code",
   "execution_count": 25,
   "metadata": {},
   "outputs": [
    {
     "name": "stdout",
     "output_type": "stream",
     "text": [
      "[0, 1, 2, 3, 0, 1, 2, 3, 0, 1, 2, 3, 0, 1, 2, 3, 0, 1, 2, 3, 0, 1, 2, 3, 0, 1, 2, 3, 0, 1, 2, 3, 0, 1, 2, 3, 0, 1, 2, 3]\n",
      "[0, 0, 0, 0, 0, 0, 0, 0, 0, 0]\n"
     ]
    }
   ],
   "source": [
    "#repeating values in a list\n",
    "# initialize with arthemetic operation on other list\n",
    "\n",
    "list_c = [0,1,2,3]*10\n",
    "print(list_c)\n",
    "list_d = [0]*10\n",
    "print(list_d)\n",
    "\n",
    "#VERY DIFFERENT FROM ARRAYS\n",
    "# arrays change values of each element in array when arthemetically operated"
   ]
  },
  {
   "cell_type": "code",
   "execution_count": 26,
   "metadata": {},
   "outputs": [
    {
     "name": "stdout",
     "output_type": "stream",
     "text": [
      "40\n"
     ]
    }
   ],
   "source": [
    "# Length of list\n",
    "# len() operation\n",
    "\n",
    "print(len(list_c))"
   ]
  },
  {
   "cell_type": "markdown",
   "metadata": {},
   "source": [
    "#### For Loops"
   ]
  },
  {
   "cell_type": "code",
   "execution_count": 29,
   "metadata": {},
   "outputs": [
    {
     "name": "stdout",
     "output_type": "stream",
     "text": [
      "Jerry, don't forget to do your homework!\n",
      "Tom, don't forget to do your homework!\n",
      "Elsa, don't forget to do your homework!\n",
      "Anna, don't forget to do your homework!\n",
      "Chip, don't forget to do your homework!\n",
      "Dale, don't forget to do your homework!\n",
      "\n",
      "I can count to 10\n",
      "Watch me!\n",
      "1\n",
      "\t2\n",
      "\t\t3\n",
      "\t\t\t4\n",
      "\t\t\t\t5\n",
      "\t\t\t\t\t6\n",
      "\t\t\t\t\t\t7\n",
      "\t\t\t\t\t\t\t8\n",
      "\t\t\t\t\t\t\t\t9\n",
      "\t\t\t\t\t\t\t\t\t10\n",
      "Told you!\n"
     ]
    }
   ],
   "source": [
    "# for loops iterating across a list\n",
    "# for value in list:\n",
    "#       body of code\n",
    "\n",
    "nameList = [\"Jerry\",\"Tom\",\"Elsa\",\"Anna\",\"Chip\",\"Dale\"]\n",
    "for element in nameList:\n",
    "    print(element + \", don't forget to do your homework!\")\n",
    "\n",
    "print (\"\\nI can count to 10\\nWatch me!\")\n",
    "for i in range(10):\n",
    "    print ((\"\\t\"*i)+str(i+1))\n",
    "print(\"Told you!\")\n",
    "\n"
   ]
  }
 ],
 "metadata": {
  "kernelspec": {
   "display_name": "base",
   "language": "python",
   "name": "python3"
  },
  "language_info": {
   "codemirror_mode": {
    "name": "ipython",
    "version": 3
   },
   "file_extension": ".py",
   "mimetype": "text/x-python",
   "name": "python",
   "nbconvert_exporter": "python",
   "pygments_lexer": "ipython3",
   "version": "3.11.4"
  },
  "orig_nbformat": 4
 },
 "nbformat": 4,
 "nbformat_minor": 2
}
