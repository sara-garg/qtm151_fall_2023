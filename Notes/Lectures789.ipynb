{
 "cells": [
  {
   "cell_type": "code",
   "execution_count": 1,
   "metadata": {},
   "outputs": [],
   "source": [
    "# the \"numPy\" library is used for mathematical operations\n",
    "# the \"matplotlib\" library is for generating graphs\n",
    "# the \"pandas\" library is for manipualting datasets\n",
    "\n",
    "import numpy as np\n",
    "import matplotlib.pyplot as plt\n",
    "import pandas as pd"
   ]
  },
  {
   "cell_type": "markdown",
   "metadata": {},
   "source": [
    "Formatting Notes\n",
    "# <span style=\"color:hotpink\"> Title\n",
    "## <span style = \"color:green\"> Heading\n",
    "#### <span style = \"color:lightblue\"> Subheading\n",
    "##### <span style = \"color:grey\"> Example"
   ]
  },
  {
   "cell_type": "markdown",
   "metadata": {},
   "source": [
    "# <span style=\"color:hotpink\"> Lecture 7"
   ]
  },
  {
   "cell_type": "markdown",
   "metadata": {},
   "source": [
    "## <span style = \"color:green\"> Functions\n",
    "- Blocks of reusable code to perform a specific function\n",
    "- They help programmers avoid repetition\n",
    "- built in functions come from python libraries (ex: len, print, type, abs)\n",
    "\n",
    "#### <span style = \"color:lightblue\"> Pieces of a function\n",
    "- The \"arguments\" are the values of the input. For example: 'hello' in print('hello')\n",
    "- The \"return\" is the output. For example: the string returned from the function type\n",
    "\n",
    "##### <span style = \"color:grey\"> Example: Round Function\n",
    "round (np.pi, 8) #returns np.pi rounded to 8 decimal points"
   ]
  },
  {
   "cell_type": "markdown",
   "metadata": {},
   "source": [
    "#### <span style = \"color:lightblue\"> ChiSquare, Normal, and Uniform Randomization"
   ]
  },
  {
   "cell_type": "code",
   "execution_count": null,
   "metadata": {},
   "outputs": [],
   "source": [
    "vec_x = np.random.chisquare(df = 2, size = 20)\n",
    "# changing the degrees of freedom heavily changes the random numbers generated\n",
    "# higher degrees of freedom, higher randomness\n",
    "\n",
    "vec_y = np.random.normal(loc = 2, scale = 5, size = 20)\n",
    "# loc is the center of the normal curve\n",
    "# scale is the standard deviation\n",
    "\n",
    "vec_z = np.random.uniform(low = -2, high =2, size = 50)\n",
    "\n"
   ]
  }
 ],
 "metadata": {
  "kernelspec": {
   "display_name": "qtm151",
   "language": "python",
   "name": "python3"
  },
  "language_info": {
   "codemirror_mode": {
    "name": "ipython",
    "version": 3
   },
   "file_extension": ".py",
   "mimetype": "text/x-python",
   "name": "python",
   "nbconvert_exporter": "python",
   "pygments_lexer": "ipython3",
   "version": "3.11.4"
  },
  "orig_nbformat": 4
 },
 "nbformat": 4,
 "nbformat_minor": 2
}
