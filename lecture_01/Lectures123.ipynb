{
 "cells": [
  {
   "cell_type": "markdown",
   "metadata": {},
   "source": [
    "# Lecture 1"
   ]
  },
  {
   "cell_type": "markdown",
   "metadata": {},
   "source": [
    "### activate a virtual environment\n",
    "\n",
    "in terminal: \"conda activate qtm151\""
   ]
  },
  {
   "cell_type": "markdown",
   "metadata": {},
   "source": [
    "### Markup\n",
    "\n",
    "Headings level 1-6 by number of # before the phrase or words (ex: # Hi would make Hi in heading 1)\n",
    "Heading 1 can also be done by any number 3 or more of = on the line below the text\n",
    "Heading 2 can also be done by any number 3 or more of - on the line below the text\n",
    "\n"
   ]
  },
  {
   "cell_type": "markdown",
   "metadata": {},
   "source": [
    "### see all packages in conda \n",
    "\n",
    "after activated virtual environment: \"conda list\""
   ]
  },
  {
   "cell_type": "markdown",
   "metadata": {},
   "source": [
    "### .ipynb is a jupyter notebook file\n",
    "\n",
    "\n",
    "i -> interactive\n",
    "\n",
    "py -> python\n",
    "\n",
    "nb -> notebook"
   ]
  },
  {
   "cell_type": "code",
   "execution_count": 1,
   "metadata": {},
   "outputs": [],
   "source": [
    "# importing packages\n",
    "\n",
    "import matplotlib.pyplot as plt\n",
    "import pandas as pd"
   ]
  },
  {
   "cell_type": "code",
   "execution_count": 2,
   "metadata": {},
   "outputs": [
    {
     "data": {
      "text/plain": [
       "0      8\n",
       "1      8\n",
       "2      8\n",
       "3      8\n",
       "4      8\n",
       "      ..\n",
       "393    4\n",
       "394    4\n",
       "395    4\n",
       "396    4\n",
       "397    4\n",
       "Name: cylinders, Length: 398, dtype: int64"
      ]
     },
     "execution_count": 2,
     "metadata": {},
     "output_type": "execute_result"
    }
   ],
   "source": [
    "# import files\n",
    "carfeatures = pd.read_csv('data/features.csv') # alternatives: change csv in command to reflect other file types as needed\n",
    "\n",
    "# view whole imported file\n",
    "carfeatures\n",
    "\n",
    "# view column of imported file \n",
    "carfeatures['cylinders']"
   ]
  },
  {
   "cell_type": "code",
   "execution_count": 3,
   "metadata": {},
   "outputs": [
    {
     "data": {
      "text/html": [
       "<div>\n",
       "<style scoped>\n",
       "    .dataframe tbody tr th:only-of-type {\n",
       "        vertical-align: middle;\n",
       "    }\n",
       "\n",
       "    .dataframe tbody tr th {\n",
       "        vertical-align: top;\n",
       "    }\n",
       "\n",
       "    .dataframe thead th {\n",
       "        text-align: right;\n",
       "    }\n",
       "</style>\n",
       "<table border=\"1\" class=\"dataframe\">\n",
       "  <thead>\n",
       "    <tr style=\"text-align: right;\">\n",
       "      <th>col_0</th>\n",
       "      <th>How many cars have (x) cylinders?</th>\n",
       "    </tr>\n",
       "    <tr>\n",
       "      <th>cylinders</th>\n",
       "      <th></th>\n",
       "    </tr>\n",
       "  </thead>\n",
       "  <tbody>\n",
       "    <tr>\n",
       "      <th>3</th>\n",
       "      <td>4</td>\n",
       "    </tr>\n",
       "    <tr>\n",
       "      <th>4</th>\n",
       "      <td>204</td>\n",
       "    </tr>\n",
       "    <tr>\n",
       "      <th>5</th>\n",
       "      <td>3</td>\n",
       "    </tr>\n",
       "    <tr>\n",
       "      <th>6</th>\n",
       "      <td>84</td>\n",
       "    </tr>\n",
       "    <tr>\n",
       "      <th>8</th>\n",
       "      <td>103</td>\n",
       "    </tr>\n",
       "  </tbody>\n",
       "</table>\n",
       "</div>"
      ],
      "text/plain": [
       "col_0      How many cars have (x) cylinders?\n",
       "cylinders                                   \n",
       "3                                          4\n",
       "4                                        204\n",
       "5                                          3\n",
       "6                                         84\n",
       "8                                        103"
      ]
     },
     "execution_count": 3,
     "metadata": {},
     "output_type": "execute_result"
    }
   ],
   "source": [
    "# cross table\n",
    "# counts how many rows fall into categories\n",
    "# displays result\n",
    "# \"index\" is the category\n",
    "# \"columns\" is a custom title\n",
    "\n",
    "pd.crosstab(index = carfeatures['cylinders'],columns = 'How many cars have (x) cylinders?')"
   ]
  },
  {
   "cell_type": "code",
   "execution_count": 4,
   "metadata": {},
   "outputs": [
    {
     "data": {
      "text/html": [
       "<div>\n",
       "<style scoped>\n",
       "    .dataframe tbody tr th:only-of-type {\n",
       "        vertical-align: middle;\n",
       "    }\n",
       "\n",
       "    .dataframe tbody tr th {\n",
       "        vertical-align: top;\n",
       "    }\n",
       "\n",
       "    .dataframe thead th {\n",
       "        text-align: right;\n",
       "    }\n",
       "</style>\n",
       "<table border=\"1\" class=\"dataframe\">\n",
       "  <thead>\n",
       "    <tr style=\"text-align: right;\">\n",
       "      <th></th>\n",
       "      <th>mpg</th>\n",
       "      <th>cylinders</th>\n",
       "      <th>displacement</th>\n",
       "      <th>weight</th>\n",
       "      <th>acceleration</th>\n",
       "    </tr>\n",
       "  </thead>\n",
       "  <tbody>\n",
       "    <tr>\n",
       "      <th>count</th>\n",
       "      <td>398.000000</td>\n",
       "      <td>398.000000</td>\n",
       "      <td>398.000000</td>\n",
       "      <td>398.000000</td>\n",
       "      <td>398.000000</td>\n",
       "    </tr>\n",
       "    <tr>\n",
       "      <th>mean</th>\n",
       "      <td>23.514573</td>\n",
       "      <td>5.454774</td>\n",
       "      <td>193.427136</td>\n",
       "      <td>2970.424623</td>\n",
       "      <td>15.568090</td>\n",
       "    </tr>\n",
       "    <tr>\n",
       "      <th>std</th>\n",
       "      <td>7.815984</td>\n",
       "      <td>1.701004</td>\n",
       "      <td>104.268683</td>\n",
       "      <td>846.841774</td>\n",
       "      <td>2.757689</td>\n",
       "    </tr>\n",
       "    <tr>\n",
       "      <th>min</th>\n",
       "      <td>9.000000</td>\n",
       "      <td>3.000000</td>\n",
       "      <td>68.000000</td>\n",
       "      <td>1613.000000</td>\n",
       "      <td>8.000000</td>\n",
       "    </tr>\n",
       "    <tr>\n",
       "      <th>25%</th>\n",
       "      <td>17.500000</td>\n",
       "      <td>4.000000</td>\n",
       "      <td>104.250000</td>\n",
       "      <td>2223.750000</td>\n",
       "      <td>13.825000</td>\n",
       "    </tr>\n",
       "    <tr>\n",
       "      <th>50%</th>\n",
       "      <td>23.000000</td>\n",
       "      <td>4.000000</td>\n",
       "      <td>148.500000</td>\n",
       "      <td>2803.500000</td>\n",
       "      <td>15.500000</td>\n",
       "    </tr>\n",
       "    <tr>\n",
       "      <th>75%</th>\n",
       "      <td>29.000000</td>\n",
       "      <td>8.000000</td>\n",
       "      <td>262.000000</td>\n",
       "      <td>3608.000000</td>\n",
       "      <td>17.175000</td>\n",
       "    </tr>\n",
       "    <tr>\n",
       "      <th>max</th>\n",
       "      <td>46.600000</td>\n",
       "      <td>8.000000</td>\n",
       "      <td>455.000000</td>\n",
       "      <td>5140.000000</td>\n",
       "      <td>24.800000</td>\n",
       "    </tr>\n",
       "  </tbody>\n",
       "</table>\n",
       "</div>"
      ],
      "text/plain": [
       "              mpg   cylinders  displacement       weight  acceleration\n",
       "count  398.000000  398.000000    398.000000   398.000000    398.000000\n",
       "mean    23.514573    5.454774    193.427136  2970.424623     15.568090\n",
       "std      7.815984    1.701004    104.268683   846.841774      2.757689\n",
       "min      9.000000    3.000000     68.000000  1613.000000      8.000000\n",
       "25%     17.500000    4.000000    104.250000  2223.750000     13.825000\n",
       "50%     23.000000    4.000000    148.500000  2803.500000     15.500000\n",
       "75%     29.000000    8.000000    262.000000  3608.000000     17.175000\n",
       "max     46.600000    8.000000    455.000000  5140.000000     24.800000"
      ]
     },
     "execution_count": 4,
     "metadata": {},
     "output_type": "execute_result"
    }
   ],
   "source": [
    "# basic data analysis\n",
    "# \"describe\" computes the count, mean, std, min, 25% quantile, 50%, 75%, max\n",
    "# automatically excludes variables with text values\n",
    "# otherwise includes all numeric variables\n",
    "\n",
    "carfeatures.describe()"
   ]
  },
  {
   "cell_type": "code",
   "execution_count": null,
   "metadata": {},
   "outputs": [],
   "source": [
    "# scatterplot creation\n",
    "# take two variables, x and y\n",
    "# scatterplot best works for two continous or close to continuous values\n",
    "plt.scatter(x = carfeatures['weight'], y = carfeatures['mpg'])\n",
    "\n",
    "# scatterplot visualization\n",
    "plt.show()"
   ]
  },
  {
   "cell_type": "markdown",
   "metadata": {},
   "source": [
    "# Lecture 2"
   ]
  },
  {
   "cell_type": "code",
   "execution_count": 10,
   "metadata": {},
   "outputs": [
    {
     "name": "stdout",
     "output_type": "stream",
     "text": [
      "<class 'str'>\n",
      "\n",
      "integer\t\n",
      "-1820392\n",
      "<class 'int'>\n",
      "\n",
      "float\t\n",
      "0.1\n",
      "<class 'float'>\n",
      "\n",
      "Mario said, \"this is a super string\"\n",
      "<class 'str'>\n",
      "\n",
      "Mario said, \"this is a super string\", but Mario was wrong\n",
      "<class 'str'>\n",
      "\n",
      "Mario said, \"this is a super string\", but Mario was wrong... because this is a SUPER DUPER STRING\n",
      "<class 'str'>\n"
     ]
    }
   ],
   "source": [
    "# Types of Variables\n",
    "print (type (\"this is a String\")) # type() method returns the type of the thing in the ()\n",
    "\n",
    "# integers\n",
    "# and + or - whole number, limit is ENORMOUS\n",
    "inte = -1820392\n",
    "print (\"\\ninteger\\t\")\n",
    "print (inte)\n",
    "print (type (inte))\n",
    "\n",
    "# float\n",
    "# decimals\n",
    "doub = 0.1\n",
    "print (\"\\nfloat\\t\")\n",
    "print (doub)\n",
    "print (type(doub))\n",
    "\n",
    "# strings\n",
    "# characters combines, demarkated by '' or \"\"\n",
    "# only strings can be cocatenated (done with a +)\n",
    "stri = '\\nMario said, \"this is a super string\"'\n",
    "print (stri)\n",
    "print (type (stri))\n",
    "\n",
    "stri += ', but Mario was wrong'\n",
    "print (stri)\n",
    "print (type (stri))\n",
    "\n",
    "stringy = '... because this is a SUPER DUPER STRING'\n",
    "print (stri + stringy)\n",
    "print (type (stringy))"
   ]
  },
  {
   "cell_type": "markdown",
   "metadata": {},
   "source": [
    "### A note on Jupyter Notebook\n",
    "\n",
    "Jupyter Notebook auto prints type if its on the last line\n",
    "\n",
    "If its only one line in the code block, it will show"
   ]
  },
  {
   "cell_type": "markdown",
   "metadata": {},
   "source": [
    "### Variables\n",
    "\n",
    "all active variables can be seen in jupyter notebook (top panel)\n",
    "\n",
    "you can show the output by writing the variable name in a new block\n",
    "the last line will be displayed in a block\n",
    "\n",
    "<font size=\"5\"> \n",
    "\n",
    "### Basic operations on integers and floats\n",
    "\n",
    "- Addition (+), Multiplication (*), Subtraction (-), Division (/), Exponentiation (**)\n",
    "- If you try this on a string it will not work"
   ]
  },
  {
   "cell_type": "code",
   "execution_count": 32,
   "metadata": {},
   "outputs": [
    {
     "name": "stdout",
     "output_type": "stream",
     "text": [
      "Lists\n",
      "______\n",
      "\n",
      "A strange mixed list:\n",
      "[0.0, 1, 'hi', 'nah', 9.283, '\"fiji\"', 0, \"lovin'\", -2, 0, ['this', 'is', 'a', 'list'], ('tuple', 0, 'moople')]\n",
      "\n",
      "My once empty list:\n",
      "['h', 'o', 'l', 'a', 'h', 'i', 'hello']\n",
      "Accessing an Entry:\t\t\thi\n",
      "Acsessing an Entry in an Entry:\t\tthis\n",
      "\n",
      "- - - - - - - - - - - - - - - - - - - - - - - - - - - - - - - - - - - - - - - - - - - - - - - - - - \n",
      "\n",
      "Tuples\n",
      "______\n",
      "\n",
      "('I', 'Love', 0)\n",
      "<class 'tuple'>\n"
     ]
    }
   ],
   "source": [
    "# Lists\n",
    "# donated by square brackets\n",
    "print(\"Lists\\n______\\n\")\n",
    "\n",
    "# they can be single type or mixed\n",
    "# a list can even contain lists!\n",
    "print(\"A strange mixed list:\")\n",
    "myMixedList = [0.0,1,'hi',\"nah\",9.283,'\"fiji\"', 0, \"lovin'\", -2, -0, [\"this\",\"is\",\"a\",\"list\"],(\"tuple\",0,\"moople\")]\n",
    "print (myMixedList)\n",
    "\n",
    "# Empty list will be assumed to be a character list and if you try to add strings without brackets, they will be broken into characters\n",
    "print(\"\\nMy once empty list:\")\n",
    "myList = []\n",
    "myList += \"hola\"\n",
    "myList += 'hi'\n",
    "myList += [\"hello\"]\n",
    "print (myList)\n",
    "\n",
    "#access elements of list\n",
    "# index starts at 0\n",
    "print (\"Accessing an Entry:\\t\\t\\t\"+myMixedList[2])\n",
    "#access elements of a list in a list\n",
    "print(\"Acsessing an Entry in an Entry:\\t\\t\"+myMixedList[10][0])\n",
    "\n",
    "#Tuples\n",
    "dashes = \"- - - - - - - - - - - - - - - - - - - - - - - - - \"\n",
    "print(\"\\n\"+dashes+dashes+\"\\n\\nTuples\\n______\\n\")\n",
    "\n",
    "#tuples can also be mixed type\n",
    "tup = (\"I\", \"Love\", 0)\n",
    "print (tup)\n",
    "print (type(tup))"
   ]
  },
  {
   "cell_type": "markdown",
   "metadata": {},
   "source": [
    "## Graphing\n",
    "#### histograms"
   ]
  },
  {
   "cell_type": "code",
   "execution_count": null,
   "metadata": {},
   "outputs": [],
   "source": [
    "# This creates a histogram with the \"list_colors\"\n",
    "plt.hist(x= list2)\n",
    "# x = the list with data that you want"
   ]
  },
  {
   "cell_type": "markdown",
   "metadata": {},
   "source": [
    "###### scatter"
   ]
  },
  {
   "cell_type": "code",
   "execution_count": null,
   "metadata": {},
   "outputs": [],
   "source": [
    "plt.scatter(x = list_numbers, y = list_numbers_sqr)\n",
    "plt.xlabel(\"A meaningful name for the X-axis\")\n",
    "plt.ylabel(\"Favourite name for Y-axis\")\n",
    "plt.show()"
   ]
  },
  {
   "cell_type": "markdown",
   "metadata": {},
   "source": [
    "## Lecture 3"
   ]
  },
  {
   "cell_type": "code",
   "execution_count": null,
   "metadata": {},
   "outputs": [],
   "source": [
    "# This code creates a vector of random variables \n",
    "# generated from a normal distribution with\n",
    "# mean \"loc\" (location) and standard deviation \"scale\"\n",
    "# the number of distinct variabels is \"size\"\n",
    "\n",
    "randomvar_a = np.random.normal(loc=0, scale=1, size=10)\n",
    "print(randomvar_a)\n",
    "\n",
    "# Your computer will typically generate different numbers every time you run a command\n",
    "# However, sometimes you want to be able to replicate the results\n",
    "# You can choose any other number instead of \"12345\". This will produce another set\n",
    "# of random numbers, but they will give the same answers\n",
    "\n",
    "np.random.seed(10393)\n",
    "\n",
    "random_var_b = np.random.normal(loc=0, scale=1, size=10)\n",
    "print(random_var_b)"
   ]
  },
  {
   "cell_type": "markdown",
   "metadata": {},
   "source": [
    "###### Matrixes"
   ]
  },
  {
   "cell_type": "code",
   "execution_count": null,
   "metadata": {},
   "outputs": [],
   "source": [
    "# Matrices are usually denoted by capital letters\n",
    "# The object [[1,2,3],[4,5,6],[7,8,9]] is a list of lists\n",
    "# It's useful to maintain this notation in the code as well\n",
    "\n",
    "X = np.array([[1,2,3],[0,4,5],[0,0,6]])\n",
    "print(X)\n",
    "\n",
    "# You can also stack columns\n",
    "Y =  np.column_stack([[1,0,1],[2,1,0]])\n",
    "print(Y)\n",
    "\n",
    "# Matrix Transpose\n",
    "np.matrix.transpose(Y)\n",
    "\n",
    "# Matrix Multiplication\n",
    "np.dot(X,Y)\n",
    "np.matmul(X,Y)\n",
    "\n",
    "# Check the determinant of a matrix (a matrix is invertible if the determinant is not zero)\n",
    "print(np.linalg.det(X))\n",
    "\n",
    "# Matrix inverse\n",
    "# The following command stands for linear algebrar inverse.\n",
    "X_inv = np.linalg.inv(X)\n",
    "\n",
    "# Output the result\n",
    "print(X_inv)"
   ]
  }
 ],
 "metadata": {
  "kernelspec": {
   "display_name": "base",
   "language": "python",
   "name": "python3"
  },
  "language_info": {
   "codemirror_mode": {
    "name": "ipython",
    "version": 3
   },
   "file_extension": ".py",
   "mimetype": "text/x-python",
   "name": "python",
   "nbconvert_exporter": "python",
   "pygments_lexer": "ipython3",
   "version": "3.11.4"
  },
  "orig_nbformat": 4
 },
 "nbformat": 4,
 "nbformat_minor": 2
}
